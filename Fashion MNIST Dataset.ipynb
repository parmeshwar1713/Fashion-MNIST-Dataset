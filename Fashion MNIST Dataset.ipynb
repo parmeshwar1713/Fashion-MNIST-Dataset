{
 "cells": [
  {
   "cell_type": "code",
   "execution_count": 1,
   "id": "17f86524",
   "metadata": {},
   "outputs": [
    {
     "name": "stdout",
     "output_type": "stream",
     "text": [
      "2.5.0\n"
     ]
    }
   ],
   "source": [
    "import tensorflow as tf\n",
    "print(tf.__version__)"
   ]
  },
  {
   "cell_type": "markdown",
   "id": "98ef747e",
   "metadata": {},
   "source": [
    "# Load the Data"
   ]
  },
  {
   "cell_type": "code",
   "execution_count": 2,
   "id": "d4fc08d8",
   "metadata": {},
   "outputs": [
    {
     "name": "stdout",
     "output_type": "stream",
     "text": [
      "Downloading data from https://storage.googleapis.com/tensorflow/tf-keras-datasets/train-labels-idx1-ubyte.gz\n",
      "32768/29515 [=================================] - 0s 6us/step\n",
      "Downloading data from https://storage.googleapis.com/tensorflow/tf-keras-datasets/train-images-idx3-ubyte.gz\n",
      "26427392/26421880 [==============================] - 27s 1us/step\n",
      "Downloading data from https://storage.googleapis.com/tensorflow/tf-keras-datasets/t10k-labels-idx1-ubyte.gz\n",
      "8192/5148 [===============================================] - 0s 1us/step\n",
      "Downloading data from https://storage.googleapis.com/tensorflow/tf-keras-datasets/t10k-images-idx3-ubyte.gz\n",
      "4423680/4422102 [==============================] - 4s 1us/step\n"
     ]
    }
   ],
   "source": [
    "from tensorflow.keras.models import Sequential\n",
    "from tensorflow.keras.layers import Dense,Flatten,Conv2D,MaxPooling2D\n",
    "from tensorflow.keras.preprocessing import image\n",
    "import numpy as np\n",
    "import pandas as pd\n",
    "#Load the Fashion-MNIST dataset\n",
    "fashion_mnist_data= tf.keras.datasets.fashion_mnist\n",
    "(train_images,train_labels),(test_images,test_labels) =fashion_mnist_data.load_data()\n"
   ]
  },
  {
   "cell_type": "code",
   "execution_count": 3,
   "id": "82f2de9a",
   "metadata": {},
   "outputs": [
    {
     "name": "stdout",
     "output_type": "stream",
     "text": [
      "(60000, 28, 28)\n",
      "(60000,)\n"
     ]
    }
   ],
   "source": [
    "#Print the shape of the training data\n",
    "print(train_images.shape)\n",
    "print(train_labels.shape)"
   ]
  },
  {
   "cell_type": "code",
   "execution_count": 16,
   "id": "0edc6799",
   "metadata": {},
   "outputs": [],
   "source": [
    "#Difine the labels\n",
    "labels = [\n",
    "    'T-shirt/top',\n",
    "    'Trouser',\n",
    "    'Pullover',\n",
    "    'Dress',\n",
    "    'Coat',\n",
    "    'Sandal',\n",
    "    'Shirt',\n",
    "    'Sneaker',\n",
    "    'Bag',\n",
    "    'Ankle boot'\n",
    "]"
   ]
  },
  {
   "cell_type": "markdown",
   "id": "9fc7de45",
   "metadata": {},
   "source": [
    "# Rescale the images to take values between 0 and 1\n"
   ]
  },
  {
   "cell_type": "code",
   "execution_count": 17,
   "id": "e20913d9",
   "metadata": {},
   "outputs": [],
   "source": [
    "#Rescale the image values so that they lie in between 0 and 1\n",
    "train_images = train_images/255.0\n",
    "test_images = test_images/255.0"
   ]
  },
  {
   "cell_type": "markdown",
   "id": "74e10888",
   "metadata": {},
   "source": [
    "# Display the first image"
   ]
  },
  {
   "cell_type": "code",
   "execution_count": 22,
   "id": "4d2940dd",
   "metadata": {},
   "outputs": [
    {
     "data": {
      "image/png": "[encoded data removed]",
      "text/plain": [
       "<Figure size 432x288 with 1 Axes>"
      ]
     },
     "metadata": {
      "needs_background": "light"
     },
     "output_type": "display_data"
    },
    {
     "name": "stdout",
     "output_type": "stream",
     "text": [
      "label: Ankle boot\n"
     ]
    }
   ],
   "source": [
    "#Display one of the images\n",
    "import matplotlib.pyplot as plt\n",
    "i = 0\n",
    "img = train_images[i,:,:]\n",
    "plt.imshow(img)\n",
    "plt.show()\n",
    "print(f'label: {labels[train_labels[0]]}')\n"
   ]
  },
  {
   "cell_type": "markdown",
   "id": "daac6d97",
   "metadata": {},
   "source": [
    "# Build the MOdel\n",
    "# The model will be a 2D Convolutional kernel (3 X 3) of 16 channels and relu activation. \n",
    "# Then we will continue with a Max Pooling (3 x 3) and finally will\n",
    "# be a fully connected layer of 10 neurons (as many as the labels) and a softmax activation function."
   ]
  },
  {
   "cell_type": "code",
   "execution_count": 25,
   "id": "0371ce3c",
   "metadata": {},
   "outputs": [
    {
     "name": "stdout",
     "output_type": "stream",
     "text": [
      "Model: \"sequential\"\n",
      "_________________________________________________________________\n",
      "Layer (type)                 Output Shape              Param #   \n",
      "=================================================================\n",
      "conv2d (Conv2D)              (None, 26, 26, 16)        160       \n",
      "_________________________________________________________________\n",
      "max_pooling2d (MaxPooling2D) (None, 8, 8, 16)          0         \n",
      "_________________________________________________________________\n",
      "flatten (Flatten)            (None, 1024)              0         \n",
      "_________________________________________________________________\n",
      "dense (Dense)                (None, 10)                10250     \n",
      "=================================================================\n",
      "Total params: 10,410\n",
      "Trainable params: 10,410\n",
      "Non-trainable params: 0\n",
      "_________________________________________________________________\n"
     ]
    }
   ],
   "source": [
    "model = Sequential([\n",
    "    Conv2D(16, (3,3),activation = 'relu' , input_shape = (28,28,1)),\n",
    "    MaxPooling2D((3,3)),\n",
    "    Flatten(),\n",
    "    Dense(10, activation = 'softmax')\n",
    "           ])\n",
    "#Print the model summary\n",
    "model.summary()"
   ]
  },
  {
   "cell_type": "markdown",
   "id": "94408ddd",
   "metadata": {},
   "source": [
    "# Compile the Model"
   ]
  },
  {
   "cell_type": "markdown",
   "id": "d25fecf0",
   "metadata": {},
   "source": [
    "We will compile the model using the adam optimizer and a sparse_categorical_crossentropy loss function. Finally, \n",
    "our metric will be the accuracy.\n",
    "\n",
    "NB: We use the sparse_categorical_crossentropy because our y labels are in 1D array taking values from 0 to 9. \n",
    "If our y was labeled with one hot encoding then we would have used the categorical_crossentropy."
   ]
  },
  {
   "cell_type": "code",
   "execution_count": 26,
   "id": "02277c22",
   "metadata": {},
   "outputs": [],
   "source": [
    "model.compile(optimizer='adam',#sgd etc\n",
    "             loss= 'sparse_categorical_crossentropy',\n",
    "             metrics = ['accuracy'])"
   ]
  },
  {
   "cell_type": "markdown",
   "id": "5642988e",
   "metadata": {},
   "source": [
    "# Fit the Model"
   ]
  },
  {
   "cell_type": "markdown",
   "id": "ec161f66",
   "metadata": {},
   "source": [
    "Before we fit the model, we need to change the dimensions of the train images using the np.newaxis. \n",
    "Notice that from (60000, 28, 28) it will become (60000, 28, 28, 1)"
   ]
  },
  {
   "cell_type": "code",
   "execution_count": 35,
   "id": "0c7309cf",
   "metadata": {},
   "outputs": [
    {
     "data": {
      "text/plain": [
       "(60000, 28, 28, 1)"
      ]
     },
     "execution_count": 35,
     "metadata": {},
     "output_type": "execute_result"
    }
   ],
   "source": [
    "train_images[...,np.newaxis].shape"
   ]
  },
  {
   "cell_type": "code",
   "execution_count": 37,
   "id": "d672fb8d",
   "metadata": {},
   "outputs": [
    {
     "name": "stdout",
     "output_type": "stream",
     "text": [
      "Epoch 1/50\n",
      "235/235 [==============================] - 10s 40ms/step - loss: 0.7399 - accuracy: 0.7408\n",
      "Epoch 2/50\n",
      "235/235 [==============================] - 11s 49ms/step - loss: 0.7170 - accuracy: 0.7476\n",
      "Epoch 3/50\n",
      "235/235 [==============================] - 10s 43ms/step - loss: 0.6986 - accuracy: 0.7526\n",
      "Epoch 4/50\n",
      "235/235 [==============================] - 9s 39ms/step - loss: 0.6813 - accuracy: 0.7585\n",
      "Epoch 5/50\n",
      "235/235 [==============================] - 9s 38ms/step - loss: 0.6672 - accuracy: 0.7621\n",
      "Epoch 6/50\n",
      "235/235 [==============================] - 9s 38ms/step - loss: 0.6536 - accuracy: 0.7670\n",
      "Epoch 7/50\n",
      "235/235 [==============================] - 9s 38ms/step - loss: 0.6418 - accuracy: 0.7719\n",
      "Epoch 8/50\n",
      "235/235 [==============================] - 9s 38ms/step - loss: 0.6305 - accuracy: 0.7747\n",
      "Epoch 9/50\n",
      "235/235 [==============================] - 9s 38ms/step - loss: 0.6207 - accuracy: 0.7785\n",
      "Epoch 10/50\n",
      "235/235 [==============================] - 9s 38ms/step - loss: 0.6115 - accuracy: 0.7813\n",
      "Epoch 11/50\n",
      "235/235 [==============================] - 9s 38ms/step - loss: 0.6028 - accuracy: 0.7843\n",
      "Epoch 12/50\n",
      "235/235 [==============================] - 9s 38ms/step - loss: 0.5948 - accuracy: 0.7881\n",
      "Epoch 13/50\n",
      "235/235 [==============================] - 9s 38ms/step - loss: 0.5873 - accuracy: 0.7900\n",
      "Epoch 14/50\n",
      "235/235 [==============================] - 9s 38ms/step - loss: 0.5800 - accuracy: 0.7931\n",
      "Epoch 15/50\n",
      "235/235 [==============================] - 9s 38ms/step - loss: 0.5739 - accuracy: 0.7956\n",
      "Epoch 16/50\n",
      "235/235 [==============================] - 9s 38ms/step - loss: 0.5674 - accuracy: 0.7983\n",
      "Epoch 17/50\n",
      "235/235 [==============================] - 9s 38ms/step - loss: 0.5620 - accuracy: 0.7992\n",
      "Epoch 18/50\n",
      "235/235 [==============================] - 9s 38ms/step - loss: 0.5563 - accuracy: 0.8015\n",
      "Epoch 19/50\n",
      "235/235 [==============================] - 9s 39ms/step - loss: 0.5508 - accuracy: 0.8037\n",
      "Epoch 20/50\n",
      "235/235 [==============================] - 9s 38ms/step - loss: 0.5461 - accuracy: 0.8058\n",
      "Epoch 21/50\n",
      "235/235 [==============================] - 9s 38ms/step - loss: 0.5414 - accuracy: 0.8072\n",
      "Epoch 22/50\n",
      "235/235 [==============================] - 9s 38ms/step - loss: 0.5368 - accuracy: 0.8093\n",
      "Epoch 23/50\n",
      "235/235 [==============================] - 9s 40ms/step - loss: 0.5326 - accuracy: 0.8109\n",
      "Epoch 24/50\n",
      "235/235 [==============================] - 10s 43ms/step - loss: 0.5284 - accuracy: 0.8121\n",
      "Epoch 25/50\n",
      "235/235 [==============================] - 9s 40ms/step - loss: 0.5252 - accuracy: 0.8134\n",
      "Epoch 26/50\n",
      "235/235 [==============================] - 9s 38ms/step - loss: 0.5214 - accuracy: 0.8157\n",
      "Epoch 27/50\n",
      "235/235 [==============================] - 9s 38ms/step - loss: 0.5175 - accuracy: 0.8168\n",
      "Epoch 28/50\n",
      "235/235 [==============================] - 9s 37ms/step - loss: 0.5139 - accuracy: 0.8191\n",
      "Epoch 29/50\n",
      "235/235 [==============================] - 9s 37ms/step - loss: 0.5111 - accuracy: 0.8190\n",
      "Epoch 30/50\n",
      "235/235 [==============================] - 9s 38ms/step - loss: 0.5080 - accuracy: 0.8210\n",
      "Epoch 31/50\n",
      "235/235 [==============================] - 9s 39ms/step - loss: 0.5048 - accuracy: 0.8213\n",
      "Epoch 32/50\n",
      "235/235 [==============================] - 9s 36ms/step - loss: 0.5019 - accuracy: 0.8236\n",
      "Epoch 33/50\n",
      "235/235 [==============================] - 9s 37ms/step - loss: 0.4993 - accuracy: 0.8243\n",
      "Epoch 34/50\n",
      "235/235 [==============================] - 9s 37ms/step - loss: 0.4967 - accuracy: 0.8256\n",
      "Epoch 35/50\n",
      "235/235 [==============================] - 9s 37ms/step - loss: 0.4937 - accuracy: 0.8271\n",
      "Epoch 36/50\n",
      "235/235 [==============================] - 9s 37ms/step - loss: 0.4907 - accuracy: 0.8280\n",
      "Epoch 37/50\n",
      "235/235 [==============================] - 9s 38ms/step - loss: 0.4884 - accuracy: 0.8286\n",
      "Epoch 38/50\n",
      "235/235 [==============================] - 9s 38ms/step - loss: 0.4859 - accuracy: 0.8287\n",
      "Epoch 39/50\n",
      "235/235 [==============================] - 9s 37ms/step - loss: 0.4836 - accuracy: 0.8303\n",
      "Epoch 40/50\n",
      "235/235 [==============================] - 9s 37ms/step - loss: 0.4811 - accuracy: 0.8307\n",
      "Epoch 41/50\n",
      "235/235 [==============================] - 10s 41ms/step - loss: 0.4789 - accuracy: 0.8311\n",
      "Epoch 42/50\n",
      "235/235 [==============================] - 9s 40ms/step - loss: 0.4766 - accuracy: 0.8325\n",
      "Epoch 43/50\n",
      "235/235 [==============================] - 9s 37ms/step - loss: 0.4742 - accuracy: 0.8326\n",
      "Epoch 44/50\n",
      "235/235 [==============================] - 9s 38ms/step - loss: 0.4722 - accuracy: 0.8339\n",
      "Epoch 45/50\n",
      "235/235 [==============================] - 9s 37ms/step - loss: 0.4702 - accuracy: 0.8349\n",
      "Epoch 46/50\n",
      "235/235 [==============================] - 9s 37ms/step - loss: 0.4682 - accuracy: 0.8350\n",
      "Epoch 47/50\n",
      "235/235 [==============================] - 9s 37ms/step - loss: 0.4665 - accuracy: 0.8356\n",
      "Epoch 48/50\n",
      "235/235 [==============================] - 10s 43ms/step - loss: 0.4641 - accuracy: 0.8372\n",
      "Epoch 49/50\n",
      "235/235 [==============================] - 9s 39ms/step - loss: 0.4624 - accuracy: 0.8375\n",
      "Epoch 50/50\n",
      "235/235 [==============================] - 9s 39ms/step - loss: 0.4607 - accuracy: 0.8377\n"
     ]
    }
   ],
   "source": [
    "history = model.fit(train_images[...,np.newaxis], train_labels,epochs=50,batch_size = 256)"
   ]
  },
  {
   "cell_type": "code",
   "execution_count": 39,
   "id": "4acbbf33",
   "metadata": {},
   "outputs": [
    {
     "data": {
      "text/html": [
       "<div>\n",
       "<style scoped>\n",
       "    .dataframe tbody tr th:only-of-type {\n",
       "        vertical-align: middle;\n",
       "    }\n",
       "\n",
       "    .dataframe tbody tr th {\n",
       "        vertical-align: top;\n",
       "    }\n",
       "\n",
       "    .dataframe thead th {\n",
       "        text-align: right;\n",
       "    }\n",
       "</style>\n",
       "<table border=\"1\" class=\"dataframe\">\n",
       "  <thead>\n",
       "    <tr style=\"text-align: right;\">\n",
       "      <th></th>\n",
       "      <th>loss</th>\n",
       "      <th>accuracy</th>\n",
       "    </tr>\n",
       "  </thead>\n",
       "  <tbody>\n",
       "    <tr>\n",
       "      <th>45</th>\n",
       "      <td>0.468191</td>\n",
       "      <td>0.834983</td>\n",
       "    </tr>\n",
       "    <tr>\n",
       "      <th>46</th>\n",
       "      <td>0.466469</td>\n",
       "      <td>0.835567</td>\n",
       "    </tr>\n",
       "    <tr>\n",
       "      <th>47</th>\n",
       "      <td>0.464058</td>\n",
       "      <td>0.837200</td>\n",
       "    </tr>\n",
       "    <tr>\n",
       "      <th>48</th>\n",
       "      <td>0.462381</td>\n",
       "      <td>0.837533</td>\n",
       "    </tr>\n",
       "    <tr>\n",
       "      <th>49</th>\n",
       "      <td>0.460745</td>\n",
       "      <td>0.837717</td>\n",
       "    </tr>\n",
       "  </tbody>\n",
       "</table>\n",
       "</div>"
      ],
      "text/plain": [
       "        loss  accuracy\n",
       "45  0.468191  0.834983\n",
       "46  0.466469  0.835567\n",
       "47  0.464058  0.837200\n",
       "48  0.462381  0.837533\n",
       "49  0.460745  0.837717"
      ]
     },
     "execution_count": 39,
     "metadata": {},
     "output_type": "execute_result"
    }
   ],
   "source": [
    "#Load the history into a pandas Datafram\n",
    "df =pd.DataFrame(history.history)\n",
    "df.tail()"
   ]
  },
  {
   "cell_type": "markdown",
   "id": "2acb51ed",
   "metadata": {},
   "source": [
    "# Evaluate the Model"
   ]
  },
  {
   "cell_type": "code",
   "execution_count": 40,
   "id": "84ead8c0",
   "metadata": {},
   "outputs": [
    {
     "name": "stdout",
     "output_type": "stream",
     "text": [
      "313/313 - 1s - loss: 0.4907 - accuracy: 0.8245\n"
     ]
    },
    {
     "data": {
      "text/plain": [
       "[0.4907326102256775, 0.8245000243186951]"
      ]
     },
     "execution_count": 40,
     "metadata": {},
     "output_type": "execute_result"
    }
   ],
   "source": [
    "# We will evaluate our model on the test dataset.\n",
    "#Evaluete the model\n",
    "model.evaluate(test_images[...,np.newaxis], test_labels, verbose=2)"
   ]
  },
  {
   "cell_type": "markdown",
   "id": "8a971b13",
   "metadata": {},
   "source": [
    "# Make Predictions"
   ]
  },
  {
   "cell_type": "code",
   "execution_count": 46,
   "id": "e84d75a3",
   "metadata": {},
   "outputs": [
    {
     "data": {
      "image/png": "[encoded data removed]",
      "text/plain": [
       "<Figure size 432x288 with 1 Axes>"
      ]
     },
     "metadata": {
      "needs_background": "light"
     },
     "output_type": "display_data"
    }
   ],
   "source": [
    "#Choos a random test image\n",
    "random_inx = np.random.choice(test_images.shape[0])\n",
    "test_image = test_images[random_inx]\n",
    "plt.imshow(test_image)\n",
    "plt.show()"
   ]
  },
  {
   "cell_type": "code",
   "execution_count": 50,
   "id": "87008ff4",
   "metadata": {},
   "outputs": [
    {
     "name": "stdout",
     "output_type": "stream",
     "text": [
      "Model Prediction: Coat\n"
     ]
    }
   ],
   "source": [
    "#get the model predictions\n",
    "predictions = model.predict(test_image[np.newaxis, ...,np.newaxis])\n",
    "print(f'Model Prediction: {labels[np.argmax(predictions)]}')"
   ]
  },
  {
   "cell_type": "code",
   "execution_count": 51,
   "id": "1719de93",
   "metadata": {},
   "outputs": [
    {
     "data": {
      "text/plain": [
       "array([[1.1389960e-02, 1.6111450e-03, 1.1323675e-03, 1.8246178e-01,\n",
       "        7.5353253e-01, 6.8490852e-11, 4.9450211e-02, 4.9275548e-09,\n",
       "        4.2209218e-04, 2.9136260e-10]], dtype=float32)"
      ]
     },
     "execution_count": 51,
     "metadata": {},
     "output_type": "execute_result"
    }
   ],
   "source": [
    "predictions"
   ]
  },
  {
   "cell_type": "code",
   "execution_count": 52,
   "id": "ec841e80",
   "metadata": {},
   "outputs": [
    {
     "data": {
      "text/plain": [
       "4"
      ]
     },
     "execution_count": 52,
     "metadata": {},
     "output_type": "execute_result"
    }
   ],
   "source": [
    "np.argmax(predictions)"
   ]
  }
 ],
 "metadata": {
  "kernelspec": {
   "display_name": "Python 3",
   "language": "python",
   "name": "python3"
  },
  "language_info": {
   "codemirror_mode": {
    "name": "ipython",
    "version": 3
   },
   "file_extension": ".py",
   "mimetype": "text/x-python",
   "name": "python",
   "nbconvert_exporter": "python",
   "pygments_lexer": "ipython3",
   "version": "3.8.8"
  }
 },
 "nbformat": 4,
 "nbformat_minor": 5
}
